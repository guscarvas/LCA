{
 "cells": [
  {
   "cell_type": "code",
   "execution_count": 1,
   "metadata": {},
   "outputs": [],
   "source": [
    "import numpy as np\n",
    "import matplotlib.pyplot as plt\n",
    "import ipywidgets"
   ]
  },
  {
   "cell_type": "code",
   "execution_count": null,
   "metadata": {},
   "outputs": [],
   "source": [
    "def MaterialProduction(EmbodiedMat1, EmbodiedMat2, massTM, massAM):\n",
    "    EG_TM = np.dot(mat1eg,massTM)\n",
    "    EG_AM = np.dot(mat2eg,massAM)\n",
    "    return EG_TM, EG_AM"
   ]
  },
  {
   "cell_type": "code",
   "execution_count": null,
   "metadata": {},
   "outputs": [],
   "source": [
    "def Manufacturing(processing_steps):\n",
    "    result = np.multiply(processing_steps[:,:2],processing_steps[:,[2])\n",
    "    return result\n"
   ]
  },
  {
   "cell_type": "code",
   "execution_count": 24,
   "metadata": {},
   "outputs": [
    {
     "data": {
      "text/plain": [
       "array([[100000,   1000],\n",
       "       [400000,   4000]])"
      ]
     },
     "execution_count": 24,
     "metadata": {},
     "output_type": "execute_result"
    }
   ],
   "source": [
    "processing_steps = np.array([[10000,100,10],[20000,200,20]])\n",
    "# result = (processing_steps[:,:2]*processing_steps[:,2][:,None])\n",
    "result = np.multiply(processing_steps[:,:2],processing_steps[:,[2]])\n",
    "# x = np.dot([[10000,100,10],[20000,200,20]],1)\n",
    "# x[:,2]\n",
    "result"
   ]
  },
  {
   "cell_type": "code",
   "execution_count": 33,
   "metadata": {},
   "outputs": [
    {
     "data": {
      "text/plain": [
       "{'a': 10, 'b': 20, 'c': 30, 'total': 60}"
      ]
     },
     "execution_count": 33,
     "metadata": {},
     "output_type": "execute_result"
    }
   ],
   "source": [
    "diction = {\"a\":10,\"b\":20,\"c\":30}\n",
    "diction[\"total\"] = sum(diction.values())\n",
    "diction"
   ]
  },
  {
   "cell_type": "code",
   "execution_count": null,
   "metadata": {},
   "outputs": [],
   "source": [
    "def Transport(distanceAM, distanceTM, methodAM, methodTM):\n",
    "    # https://www.section.io/engineering-education/using-geopy-to-calculate-the-distance-between-two-points/#:~:text=Geopy%20is%20a%20Python%20library,well%20as%20other%20data%20sources.\n",
    "    # https://towardsdatascience.com/driving-distance-between-two-or-more-places-in-python-89779d691def\n",
    "    # https://towardsdatascience.com/calculating-distance-between-two-geolocations-in-python-26ad3afe287b\n",
    "    return 0"
   ]
  },
  {
   "cell_type": "code",
   "execution_count": null,
   "metadata": {},
   "outputs": [],
   "source": [
    "def Use(gain,dif_mass):\n",
    "    np.dot()"
   ]
  },
  {
   "cell_type": "code",
   "execution_count": null,
   "metadata": {},
   "outputs": [],
   "source": [
    "def Disposal():\n",
    "    return 0"
   ]
  },
  {
   "cell_type": "code",
   "execution_count": null,
   "metadata": {},
   "outputs": [],
   "source": [
    "def Calculation(imassTM, fmassTM,embodiedTM, embodiedAM,\n",
    "                TM11,TM12,TM13,\n",
    "                TM21,TM22,TM23,\n",
    "                TM31,TM32,TM33,TMstep,\n",
    "                AM11,AM12,AM13,\n",
    "                AM21,AM22,AM23,\n",
    "                AM31,AM32,AM33,AMsteps,\n",
    "                mass_reduction_perc, finishing_perc, support_perc,\n",
    "                eff_energ_conv '''MJ/MJ %''',\n",
    "                CO2equivalent '''g/MJ''',\n",
    "                typeUse): \n",
    "    \n",
    "    ############## MATERIAL PRODUCTION\n",
    "    \n",
    "    massAM = fmassTM*(1-mass_reduction_perc)/(1-(support_perc+finishing_perc))\n",
    "    \n",
    "    TMmat_prod, AMmat_prod = MaterialProduction(embodiedTM, embodiedAM, imassTM, massAM)\n",
    "    \n",
    "    ############# MANUFACTURING\n",
    "    \n",
    "    removed_massTM = imassTM-fmassTM\n",
    "    \n",
    "    TM_processing = np.array([[TM11,TM12,TM13*removed_massTM],[TM21,TM22,TM23*removed_massTM],[TM31,TM32,TM33*removed_massTM]])\n",
    "    uTM_processing = TM_processing\n",
    "    uTM_processing[(TMsteps+1):] = 0\n",
    "    \n",
    "    AM_processing = np.array([[AM11,AM12,AM13*massAM],[AM21,AM22,AN23*massAM],[AM31,AM32,AM33*massAM]]) \n",
    "    uAM_processing = AM_processing\n",
    "    uAM_processing[(AMsteps+1):] = 0\n",
    "    \n",
    "    TMmanuf = Manufacturing(uTM_processing)\n",
    "    AMmanuf = Manufacturing(uAM_processing)\n",
    "    \n",
    "    ############# TRANSPORT\n",
    "    \n",
    "    TMtransport = Transport()\n",
    "    AMtransport = Transport()\n",
    "    \n",
    "    ############# USE\n",
    "    \n",
    "    # MJ PER KG OF REDUCED WEIGHT\n",
    "    energySaving = {'Long-Distance Aircraft': 200*(10**3),'Short-Distance Aircraft': 150*(10**3),\n",
    "                    'Articulated Truck': 260,'Passenger Car - Diesel': 210, 'Passenger Car - Gasoline': 230}\n",
    "    # KG PER KG OF REDUCED WEIGHT\n",
    "    CO2Saving = {'Long-Distance Aircraft': 13.6*(10**3),'Short-Distance Aircraft': 10.2*(10**3),\n",
    "                    'Articulated Truck': 18.5,'Passenger Car - Diesel': 14.9, 'Passenger Car - Gasoline': 15}\n",
    "    \n",
    "    valuesUse = [energySaving[typeUse],CO2Saving[typeUse]]\n",
    "    reducedWeight = fmassTM*(1-mass_reduction_perc) \n",
    "    AMuse = Use(valuesUse, reducedWeight)\n",
    "    \n",
    "    ############# DISPOSAL\n",
    "    \n",
    "    TMdisposal = Disposal()\n",
    "    AMdisposal = Disposal()\n",
    "    \n",
    "    \n",
    "    EnergyBarsTM  = {'Material Production':TMmat_prod[0], 'Manufacturing':TMmanuf, 'Transport':TMtransport, 'Use':TMuse, 'Disposal':TMdisposal}\n",
    "#     CO2BarsTM = {'Material Production':30-x, 'Manufacturing':30-y, 'Transport':30-z, 'Use':30-d, 'Disposal':30-d}\n",
    "    EnergyBarsTM[\"Total\"] = sum(EnergyBarsTM.values())\n",
    "    \n",
    "    EnergyBarsAM  = {'Material Production':AMmat_prod[0] , 'Manufacturing':AMmanuf, 'Transport':AMtransport, 'Use':AMuse, 'Disposal':AMdisposal}\n",
    "#     CO2BarsAM = {'Material Production':30-x, 'Manufacturing':30-y, 'Transport':30-z, 'Use':30-d, 'Disposal':30-d}\n",
    "    EnergyBarsAM[\"Total\"] = sum(EnergyBarsAM.values())\n",
    "    \n",
    "    return (EnergyBarsTM,EnergyBarsAM)\n",
    "#     return (EnergyBarsTM,CO2BarsTM,EnergyBarsAM,CO2BarsAM)"
   ]
  },
  {
   "cell_type": "code",
   "execution_count": null,
   "metadata": {},
   "outputs": [],
   "source": []
  },
  {
   "cell_type": "code",
   "execution_count": 1,
   "metadata": {},
   "outputs": [],
   "source": [
    "def Completed(imassTM = 5.13, fmassTM=2.04,embodiedTM, embodiedAM,\n",
    "              TM11 = 2.28,TM12 = 0.17,TM13 = 0.85,\n",
    "              TM21 = 2.28,TM22 = 0.17,TM23 = 0.15,\n",
    "              TM31 = 0,TM32 = 0,TM33 = 0,TMstep=2,\n",
    "              AM11 = 176.5,AM12 = 9.6,AM13 = 1,\n",
    "              AM21 = 18.5,AM22 = 20.4,AM23 = 0.1,\n",
    "              AM31 = 0,AM32 = 0,AM33 = 0,AMsteps=2,\n",
    "              mass_reduction_perc=0.8, finishing_perc=0.1, support_perc = 0.2,\n",
    "              eff_energ_conv = 0.4 '''MJ/MJ %''',\n",
    "              CO2equivalent = 20 '''g/MJ''',\n",
    "              typeUse = 'Long-Distance Aircraft', solver = True):\n",
    "    \n",
    "    \n",
    "    EnergyBarsTM, EnergyBarsAM = Calculation(imassTM, fmassTM,embodiedTM, embodiedAM,\n",
    "                                            TM11,TM12,TM13,\n",
    "                                            TM21,TM22,TM23,\n",
    "                                            TM31,TM32,TM33,TMstep,\n",
    "                                            AM11,AM12,AM13,\n",
    "                                            AM21,AM22,AM23,\n",
    "                                            AM31,AM32,AM33,AMsteps,\n",
    "                                            mass_reduction_perc, finishing_perc, support_perc,\n",
    "                                            eff_energ_conv '''MJ/MJ %''',\n",
    "                                            CO2equivalent '''g/MJ''',\n",
    "                                            typeUse)\n",
    "    \n",
    "    \n",
    "    \n",
    "    \n",
    "    mass_reduc_solver=0.1\n",
    "    step = 0.1\n",
    "    itera = 0\n",
    "    last_result = 0\n",
    "    \n",
    "    while solver and (itera<20):\n",
    "        EnergyBarsTM, EnergyBarsAM = Calculation(imassTM, fmassTM,embodiedTM, embodiedAM,\n",
    "                                            TM11,TM12,TM13,\n",
    "                                            TM21,TM22,TM23,\n",
    "                                            TM31,TM32,TM33,TMstep,\n",
    "                                            AM11,AM12,AM13,\n",
    "                                            AM21,AM22,AM23,\n",
    "                                            AM31,AM32,AM33,AMsteps,\n",
    "                                            mass_reduc_solver, finishing_perc, support_perc,\n",
    "                                            eff_energ_conv '''MJ/MJ %''',\n",
    "                                            CO2equivalent '''g/MJ''',\n",
    "                                            typeUse)\n",
    "        \n",
    "        itera += 1\n",
    "        if (EnergyBarsTM[\"Total\"] - EnergyBarsAM[\"Total\"] > 0) :\n",
    "            result = +1 \n",
    "        else: \n",
    "            result = -1\n",
    "            \n",
    "        if itera = 1:\n",
    "            last_result = result\n",
    "            \n",
    "        if last_result != result:\n",
    "            step = step/2\n",
    "            \n",
    "        mass_reduc_solver = mass_reduc_solver + result*step\n",
    "        last_result = result\n",
    "    \n",
    "    names = list(EnergyBarsTM.keys())\n",
    "    valores = list(EnergyBarsTM.values())\n",
    "    \n",
    "    fig, (ax1,ax2) = plt.subplots(2)\n",
    "    \n",
    "    \n",
    "    plt.bar(nomes,valores)\n",
    "    "
   ]
  },
  {
   "cell_type": "code",
   "execution_count": 4,
   "metadata": {},
   "outputs": [
    {
     "data": {
      "text/plain": [
       "<BarContainer object of 5 artists>"
      ]
     },
     "execution_count": 4,
     "metadata": {},
     "output_type": "execute_result"
    },
    {
     "data": {
      "image/png": "[encoded data removed]",
      "text/plain": [
       "<Figure size 432x288 with 2 Axes>"
      ]
     },
     "metadata": {
      "needs_background": "light"
     },
     "output_type": "display_data"
    }
   ],
   "source": [
    "fig, (ax1,ax2) = plt.subplots(2)\n",
    "EnergyBarsTM  = {'Material Production':20, 'Manufacturing':20, 'Transport':20, 'Use':20, 'Disposal':20}\n",
    "names = list(EnergyBarsTM.keys())\n",
    "valores = list(EnergyBarsTM.values())\n",
    "\n",
    "ax1.bar(names,valores)\n",
    "ax2.bar(names,valores)"
   ]
  },
  {
   "cell_type": "code",
   "execution_count": 18,
   "metadata": {},
   "outputs": [],
   "source": [
    "def Complete(x=0,y=0,z=0,d=0, mass_reduction_perc=0.2):\n",
    "    \n",
    "    EnergyBars = {'Material Production':30-x, 'Manufacturing':30-y, 'Transport':30-z, 'Use':30-d, 'Disposal':30-d}\n",
    "    CO2Bars = {'Material Production':30-x, 'Manufacturing':30-y, 'Transport':30-z, 'Use':30-d, 'Disposal':30-d}\n",
    "    names = list(barras.keys())\n",
    "    valores = list(barras.values())\n",
    "    valores.append()\n",
    "    fig, (ax1,ax2) = plt.subplots\n",
    "    plt.bar(nomes,valores)"
   ]
  },
  {
   "cell_type": "code",
   "execution_count": 19,
   "metadata": {},
   "outputs": [
    {
     "data": {
      "application/vnd.jupyter.widget-view+json": {
       "model_id": "9701c8a97c6441f4b1a9e7c60593ba06",
       "version_major": 2,
       "version_minor": 0
      },
      "text/plain": [
       "interactive(children=(FloatSlider(value=0.0, description='x', max=5.0, step=0.5), FloatSlider(value=0.0, descr…"
      ]
     },
     "metadata": {},
     "output_type": "display_data"
    },
    {
     "data": {
      "text/plain": [
       "<function __main__.plotAGR(x=0, y=0, z=0, d=0)>"
      ]
     },
     "execution_count": 19,
     "metadata": {},
     "output_type": "execute_result"
    }
   ],
   "source": [
    "ipywidgets.interact(Completed,x=(0,5,0.5),y=(0,5,0.5))"
   ]
  },
  {
   "cell_type": "code",
   "execution_count": null,
   "metadata": {},
   "outputs": [],
   "source": [
    "eff_energ_conv = 0.4 # MJ/MJ %\n",
    "CO2equivalent = 20 #g/MJ"
   ]
  },
  {
   "cell_type": "code",
   "execution_count": null,
   "metadata": {},
   "outputs": [],
   "source": [
    "\n",
    "##### TRADITIONAL MANUFACTURING\n",
    "initialMassTM = 100 #kg\n",
    "finalMassTM = 76 #kg\n",
    "# Primary Production\n",
    "\n",
    "embodied_MatTM =[10000,100] # [MJ/kg, kg/kg]\n",
    "\n",
    "processingTM = [[10000,0.3]] #Cada linha da matriz é um dos passos, primeiro item energia e por ultimo a massa retirada (colocar em % ou em massa mesmo?)\n",
    "\n",
    "\n",
    "\n",
    "\n",
    "\n",
    "##### ADITIVE MANUFACTURING\n",
    "\n",
    "embodied_MatAM =[10000,100] # [MJ/kg, kg/kg]\n",
    "\n",
    "processingAM = [[10000,1.02*finalMass],[1000,0.02]]\n",
    "\n"
   ]
  }
 ],
 "metadata": {
  "kernelspec": {
   "display_name": "Python 3",
   "language": "python",
   "name": "python3"
  },
  "language_info": {
   "codemirror_mode": {
    "name": "ipython",
    "version": 3
   },
   "file_extension": ".py",
   "mimetype": "text/x-python",
   "name": "python",
   "nbconvert_exporter": "python",
   "pygments_lexer": "ipython3",
   "version": "3.8.3"
  }
 },
 "nbformat": 4,
 "nbformat_minor": 4
}
