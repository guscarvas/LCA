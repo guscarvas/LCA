{
 "cells": [
  {
   "cell_type": "code",
   "execution_count": 53,
   "metadata": {},
   "outputs": [],
   "source": [
    "import numpy as np\n",
    "import matplotlib.pyplot as plt\n",
    "import ipywidgets\n",
    "from ipywidgets import interactive,interact, HBox, Layout,VBox\n",
    "from IPython.display import display"
   ]
  },
  {
   "cell_type": "code",
   "execution_count": 54,
   "metadata": {},
   "outputs": [
    {
     "data": {
      "application/vnd.jupyter.widget-view+json": {
       "model_id": "b7fdcb4d2b7b405d8f549d270bfc8d0b",
       "version_major": 2,
       "version_minor": 0
      },
      "text/plain": [
       "HBox(children=(IntSlider(value=0), IntSlider(value=0), IntSlider(value=0)))"
      ]
     },
     "metadata": {},
     "output_type": "display_data"
    },
    {
     "data": {
      "application/vnd.jupyter.widget-view+json": {
       "model_id": "9c62e07baf8642de859205eac2272cc1",
       "version_major": 2,
       "version_minor": 0
      },
      "text/plain": [
       "Output()"
      ]
     },
     "metadata": {},
     "output_type": "display_data"
    }
   ],
   "source": [
    "a = ipywidgets.IntSlider()\n",
    "b = ipywidgets.IntSlider()\n",
    "c = ipywidgets.IntSlider()\n",
    "ui = ipywidgets.HBox([a, b, c])\n",
    "def f(a, b, c):\n",
    "    print((a, b, c))\n",
    "\n",
    "out = ipywidgets.interactive_output(f, {'a': a, 'b': b, 'c': c})\n",
    "\n",
    "display(ui, out)"
   ]
  },
  {
   "cell_type": "code",
   "execution_count": 55,
   "metadata": {},
   "outputs": [
    {
     "data": {
      "text/plain": [
       "array([[20000,   200,    20],\n",
       "       [40000,   400,    40]])"
      ]
     },
     "execution_count": 55,
     "metadata": {},
     "output_type": "execute_result"
    }
   ],
   "source": [
    "processing_steps = np.array([[10000,100,10],[20000,200,20]])\n",
    "# result = (processing_steps[:,:2]*processing_steps[:,2][:,None])\n",
    "# result = np.multiply(processing_steps[:,:2],processing_steps[:,[2]])\n",
    "result = np.multiply(processing_steps,2)\n",
    "# x = np.dot([[10000,100,10],[20000,200,20]],1)\n",
    "# x[:,2]\n",
    "result"
   ]
  },
  {
   "cell_type": "code",
   "execution_count": 56,
   "metadata": {},
   "outputs": [
    {
     "data": {
      "text/plain": [
       "array([0, 0, 0, 0, 0])"
      ]
     },
     "execution_count": 56,
     "metadata": {},
     "output_type": "execute_result"
    }
   ],
   "source": [
    "diction = {\"a\":10,\"b\":20,\"c\":30}\n",
    "diction[\"total\"] = sum(diction.values())\n",
    "diction['x']=30300\n",
    "a = np.subtract(list(diction.values()),list(diction.values()))\n",
    "a"
   ]
  },
  {
   "cell_type": "code",
   "execution_count": 57,
   "metadata": {},
   "outputs": [],
   "source": [
    "def MaterialProduction(EmbodiedMat1, EmbodiedMat2, massTM, massAM):\n",
    "    EG_TM = np.multiply(EmbodiedMat1,massTM)\n",
    "    EG_AM = np.multiply(EmbodiedMat2,massAM)\n",
    "    return EG_TM, EG_AM"
   ]
  },
  {
   "cell_type": "code",
   "execution_count": 58,
   "metadata": {},
   "outputs": [],
   "source": [
    "def Manufacturing(processing_steps):\n",
    "    result = np.multiply(processing_steps[:,:2],processing_steps[:,[2]])\n",
    "    result = np.sum(result, axis=0)\n",
    "    return result\n"
   ]
  },
  {
   "cell_type": "code",
   "execution_count": 59,
   "metadata": {},
   "outputs": [],
   "source": [
    "# def Transport(distanceAM, distanceTM, methodAM, methodTM):\n",
    "def Transport():\n",
    "    # https://www.section.io/engineering-education/using-geopy-to-calculate-the-distance-between-two-points/#:~:text=Geopy%20is%20a%20Python%20library,well%20as%20other%20data%20sources.\n",
    "    # https://towardsdatascience.com/driving-distance-between-two-or-more-places-in-python-89779d691def\n",
    "    # https://towardsdatascience.com/calculating-distance-between-two-geolocations-in-python-26ad3afe287b\n",
    "    return 0"
   ]
  },
  {
   "cell_type": "code",
   "execution_count": 60,
   "metadata": {},
   "outputs": [],
   "source": [
    "def Use(gain,dif_mass):\n",
    "    result = np.multiply(gain, dif_mass)\n",
    "    \n",
    "    return result"
   ]
  },
  {
   "cell_type": "code",
   "execution_count": 61,
   "metadata": {},
   "outputs": [],
   "source": [
    "# def Disposal(recyclability, emb_virgin, emb_waste, emb_rec, mass):\n",
    "#     E = recyclability*emb_rec + (1-recyclability)*(emb_vir+emb_waste)\n",
    "#     return E*mass\n",
    "def Disposal():\n",
    "    \n",
    "    return 0"
   ]
  },
  {
   "cell_type": "code",
   "execution_count": 62,
   "metadata": {},
   "outputs": [],
   "source": [
    "def Calculation(imassTM, fmassTM,embodiedTMe,embodiedTMc, embodiedAMe,embodiedAMc,\n",
    "                TM11,TM12,TM13,\n",
    "                TM21,TM22,TM23,\n",
    "                TM31,TM32,TM33,TMsteps,\n",
    "                AM11,AM12,AM13,\n",
    "                AM21,AM22,AM23,\n",
    "                AM31,AM32,AM33,AMsteps,\n",
    "                mass_reduction_perc, finishing_perc, support_perc,\n",
    "                eff_energ_conv,\n",
    "                CO2equivalent, recyclability,\n",
    "                typeUse): \n",
    "    \n",
    "    ############## MATERIAL PRODUCTION\n",
    "#     print(fmassTM, fmassTM*(1-mass_reduction_perc))\n",
    "    massAM = fmassTM*(1-mass_reduction_perc)/(1-(support_perc+finishing_perc))\n",
    "#     print(massAM)\n",
    "    \n",
    "    TMmat_prod, AMmat_prod = MaterialProduction([embodiedTMe,embodiedTMc] , [embodiedAMe,embodiedAMc] , imassTM, massAM)\n",
    "    \n",
    "    ############# MANUFACTURING\n",
    "    \n",
    "    removed_massTM = imassTM-fmassTM\n",
    "    \n",
    "    TM_processing = np.array([[TM11,TM12,TM13*removed_massTM],[TM21,TM22,TM23*removed_massTM],[TM31,TM32,TM33*removed_massTM]])\n",
    "    uTM_processing = TM_processing\n",
    "    uTM_processing[(TMsteps+1):] = 0\n",
    "    \n",
    "    AM_processing = np.array([[AM11,AM12,AM13*massAM],[AM21,AM22,AM23*massAM],[AM31,AM32,AM33*massAM]]) \n",
    "    uAM_processing = AM_processing\n",
    "    uAM_processing[(AMsteps+1):] = 0\n",
    "    \n",
    "    TMmanuf = Manufacturing(uTM_processing)\n",
    "    AMmanuf = Manufacturing(uAM_processing)\n",
    "    \n",
    "    ############# TRANSPORT\n",
    "    \n",
    "    TMtransport = Transport()\n",
    "    AMtransport = Transport()\n",
    "    \n",
    "    ############# USE\n",
    "    \n",
    "    # MJ PER KG OF REDUCED WEIGHT\n",
    "    energySaving = {'Long-Distance Aircraft': 200*(10**3),'Short-Distance Aircraft': 150*(10**3),\n",
    "                    'Articulated Truck': 260,'Passenger Car - Diesel': 210, 'Passenger Car - Gasoline': 230}\n",
    "    # KG PER KG OF REDUCED WEIGHT\n",
    "    CO2Saving = {'Long-Distance Aircraft': 13.6*(10**3),'Short-Distance Aircraft': 10.2*(10**3),\n",
    "                    'Articulated Truck': 18.5,'Passenger Car - Diesel': 14.9, 'Passenger Car - Gasoline': 15}\n",
    "    \n",
    "    valuesUse = [energySaving[typeUse],CO2Saving[typeUse]]\n",
    "    reducedWeight = fmassTM*(-mass_reduction_perc) \n",
    "    AMuse = Use(valuesUse, reducedWeight)\n",
    "    \n",
    "    ############# DISPOSAL\n",
    "    \n",
    "    TMdisposal = Disposal()\n",
    "    AMdisposal = Disposal()\n",
    "    \n",
    "    EnergyBarsTM  = {'Material Production':TMmat_prod[0], 'Manufacturing':TMmanuf[0], 'Transport':TMtransport, 'Use':0, 'Disposal':TMdisposal}\n",
    "    CO2BarsTM = {'Material Production':TMmat_prod[1], 'Manufacturing':TMmanuf[1], 'Transport':TMtransport, 'Use':0, 'Disposal':TMdisposal}\n",
    "    \n",
    "    EnergyBarsTM[\"Total\"] = sum(EnergyBarsTM.values())\n",
    "    CO2BarsTM[\"Total\"] = sum(CO2BarsTM.values())\n",
    "    \n",
    "    EnergyBarsAM  = {'Material Production':AMmat_prod[0], 'Manufacturing':AMmanuf[0], 'Transport':AMtransport, 'Use':AMuse[0], 'Disposal':AMdisposal}\n",
    "    CO2BarsAM = {'Material Production':AMmat_prod[1], 'Manufacturing':AMmanuf[1], 'Transport':AMtransport, 'Use':AMuse[1], 'Disposal':AMdisposal}\n",
    "    \n",
    "    EnergyBarsAM[\"Total\"] = sum(EnergyBarsAM.values())\n",
    "    CO2BarsAM[\"Total\"] = sum(CO2BarsAM.values())\n",
    "    \n",
    "#     return (EnergyBarsTM,EnergyBarsAM)\n",
    "    return (EnergyBarsTM,CO2BarsTM,EnergyBarsAM,CO2BarsAM)"
   ]
  },
  {
   "cell_type": "code",
   "execution_count": 63,
   "metadata": {},
   "outputs": [
    {
     "data": {
      "text/plain": [
       "({'Material Production': 1539.0,\n",
       "  'Manufacturing': 7.045199999999999,\n",
       "  'Transport': 0,\n",
       "  'Use': 0,\n",
       "  'Disposal': 0,\n",
       "  'Total': 1546.0452},\n",
       " {'Material Production': 202.635,\n",
       "  'Manufacturing': 0.5253,\n",
       "  'Transport': 0,\n",
       "  'Use': 0,\n",
       "  'Disposal': 0,\n",
       "  'Total': 203.16029999999998},\n",
       " {'Material Production': 2107.0285714285715,\n",
       "  'Manufacturing': 519.7628571428572,\n",
       "  'Transport': 0,\n",
       "  'Use': 0.0,\n",
       "  'Disposal': 0,\n",
       "  'Total': 2626.7914285714287},\n",
       " {'Material Production': 116.57142857142858,\n",
       "  'Manufacturing': 33.922285714285714,\n",
       "  'Transport': 0,\n",
       "  'Use': 0.0,\n",
       "  'Disposal': 0,\n",
       "  'Total': 150.4937142857143})"
      ]
     },
     "execution_count": 63,
     "metadata": {},
     "output_type": "execute_result"
    }
   ],
   "source": [
    "Calculation(imassTM = 5.13, fmassTM=2.04,embodiedTMe=300,embodiedTMc=39.5, embodiedAMe=723,embodiedAMc=40,\n",
    "              TM11 = 2.28,TM12 = 0.17,TM13 = 0.85,\n",
    "              TM21 = 2.28,TM22 = 0.17,TM23 = 0.15,\n",
    "              TM31 = 0,TM32 = 0,TM33 = 0,TMsteps=2,\n",
    "              AM11 = 176.5,AM12 = 9.6,AM13 = 1,\n",
    "              AM21 = 18.5,AM22 = 20.4,AM23 = 0.1,\n",
    "              AM31 = 0,AM32 = 0,AM33 = 0,AMsteps=2,\n",
    "              mass_reduction_perc=0, finishing_perc=0.1, support_perc = 0.2,\n",
    "              eff_energ_conv = 0.4,\n",
    "              CO2equivalent = 20, recyclability = 0.15,\n",
    "              typeUse = 'Long-Distance Aircraft')"
   ]
  },
  {
   "cell_type": "code",
   "execution_count": 64,
   "metadata": {},
   "outputs": [],
   "source": [
    "def Completed(imassTM = 5.13, fmassTM=2.04,embodiedTMe=668,embodiedTMc=39.5, embodiedAMe=723,embodiedAMc=40,\n",
    "              TM11 = 2.28,TM12 = 0.17,TM13 = 0.85,\n",
    "              TM21 = 18.5,TM22 = 1.53,TM23 = 0.15,\n",
    "              TM31 = 0,TM32 = 0,TM33 = 0,TMsteps=2,\n",
    "              AM11 = 176.5,AM12 = 9.6,AM13 = 1,\n",
    "              AM21 = 18.5,AM22 = 1.39,AM23 = 0.1,\n",
    "              AM31 = 0,AM32 = 0,AM33 = 0,AMsteps=2,\n",
    "              mass_reduction_perc=0, finishing_perc=0.1, support_perc = 0.2,\n",
    "              eff_energ_conv = 0.4,\n",
    "              CO2equivalent = 20,\n",
    "              typeUse = 'Long-Distance Aircraft', recyclability = 0.15, solver = True, gType = \"All\"):\n",
    "    \n",
    "    \n",
    "    EnergyBarsTM,CO2BarsTM,EnergyBarsAM,CO2BarsAM = Calculation(imassTM, fmassTM,embodiedTMe,embodiedTMc, embodiedAMe,embodiedAMc,\n",
    "                                            TM11,TM12,TM13,\n",
    "                                            TM21,TM22,TM23,\n",
    "                                            TM31,TM32,TM33,TMsteps,\n",
    "                                            AM11,AM12,AM13,\n",
    "                                            AM21,AM22,AM23,\n",
    "                                            AM31,AM32,AM33,AMsteps,\n",
    "                                            mass_reduction_perc, finishing_perc, support_perc,\n",
    "                                            eff_energ_conv ,\n",
    "                                            CO2equivalent , recyclability,\n",
    "                                            typeUse)\n",
    "    \n",
    "    \n",
    "    \n",
    "    \n",
    "    mass_reduc_solver=0.1\n",
    "    step = 0.1\n",
    "    itera = 0\n",
    "    last_result = 0\n",
    "    \n",
    "    while solver and (itera<20):\n",
    "        EnergyBarsTMs,CO2BarsTMs,EnergyBarsAMs,CO2BarsAMs = Calculation(imassTM, fmassTM,embodiedTMe,embodiedTMc, embodiedAMe,embodiedAMc,\n",
    "                                            TM11,TM12,TM13,\n",
    "                                            TM21,TM22,TM23,\n",
    "                                            TM31,TM32,TM33,TMsteps,\n",
    "                                            AM11,AM12,AM13,\n",
    "                                            AM21,AM22,AM23,\n",
    "                                            AM31,AM32,AM33,AMsteps,\n",
    "                                            mass_reduc_solver, finishing_perc, support_perc,\n",
    "                                            eff_energ_conv,\n",
    "                                            CO2equivalent , recyclability,\n",
    "                                            typeUse)\n",
    "        \n",
    "        itera += 1\n",
    "        if (EnergyBarsTMs[\"Total\"] - EnergyBarsAMs[\"Total\"] > 0) :\n",
    "            result = -1 \n",
    "        else: \n",
    "            result = +1\n",
    "            \n",
    "        if itera == 1:\n",
    "            last_result = result\n",
    "            \n",
    "        if last_result != result:\n",
    "            step = step/2\n",
    "            \n",
    "        mass_reduc_solver = mass_reduc_solver + result*step\n",
    "        last_result = result\n",
    "    \n",
    "    print(\"Equilibrium of reduction in mass: \",mass_reduc_solver)\n",
    "    \n",
    "    if gType == \"All\":\n",
    "\n",
    "        fig, ((ax1,ax2),(ax3,ax4)) = plt.subplots(2,2, sharey='row')\n",
    "\n",
    "        namesE = list(EnergyBarsTM.keys())\n",
    "        valuesE = list(EnergyBarsTM.values())\n",
    "\n",
    "        ax1.bar(namesE,valuesE, color='red')\n",
    "        ax1.set_title('Traditional Manufacturing')\n",
    "\n",
    "        namesC = list(CO2BarsTM.keys())\n",
    "        valuesC = list(CO2BarsTM.values())\n",
    "\n",
    "        ax3.bar(namesC,valuesC, color='red')\n",
    "\n",
    "        namesE = list(EnergyBarsAM.keys())\n",
    "        valuesE = list(EnergyBarsAM.values())\n",
    "\n",
    "        ax2.bar(namesE,valuesE, color='yellow')\n",
    "        ax2.set_title('Additive Manufacturing')\n",
    "\n",
    "        namesC = list(CO2BarsAM.keys())\n",
    "        valuesC = list(CO2BarsAM.values())\n",
    "\n",
    "        ax4.bar(namesC,valuesC, color='yellow')    \n",
    "\n",
    "        fig.set_size_inches(18.5, 10.5)\n",
    "\n",
    "        plt.show(fig)\n",
    "    else:\n",
    "        namesE = list(EnergyBarsTM.keys())\n",
    "        valuesE = np.subtract(list(EnergyBarsTM.values()), list(EnergyBarsAM.values()))\n",
    "        \n",
    "        namesC = list(CO2BarsTM.keys())\n",
    "        valuesC = np.subtract(list(CO2BarsTM.values()), list(CO2BarsAM.values()))\n",
    "        \n",
    "        fig, (ax1,ax2) = plt.subplots(1,2)\n",
    "        ax1.bar(namesE,valuesE, color='red')\n",
    "        ax1.set_title('Difference in Energy Consumption')\n",
    "        ax2.bar(namesC,valuesC, color='green')\n",
    "        ax2.set_title('Difference in CO2 Consumption')\n",
    "        fig.set_size_inches(18.5, 10.5)\n",
    "\n",
    "        plt.show(fig)\n",
    "        "
   ]
  },
  {
   "cell_type": "code",
   "execution_count": 65,
   "metadata": {},
   "outputs": [
    {
     "data": {
      "application/vnd.jupyter.widget-view+json": {
       "model_id": "73f5283ee7db4914a9c5f32bc34d3819",
       "version_major": 2,
       "version_minor": 0
      },
      "text/plain": [
       "VBox(children=(HBox(children=(FloatSlider(value=5.13, description='imassTM', max=15.39, min=-5.13), FloatSlide…"
      ]
     },
     "metadata": {},
     "output_type": "display_data"
    },
    {
     "data": {
      "image/png": "[encoded data removed]",
      "text/plain": [
       "<Figure size 432x288 with 2 Axes>"
      ]
     },
     "metadata": {
      "needs_background": "light"
     },
     "output_type": "display_data"
    }
   ],
   "source": [
    "widget = ipywidgets.interactive(Completed,solver = True, mass_reduction_perc=(0,1,0.02), typeUse = ['Long-Distance Aircraft','Short-Distance Aircraft',\n",
    "                    'Articulated Truck','Passenger Car - Diesel', 'Passenger Car - Gasoline'], gType = ['All','Difference'])\n",
    "controls = HBox(widget.children[:-1], layout = Layout(flex_flow='row wrap'))\n",
    "output = widget.children[-1]\n",
    "display(VBox([controls, output]))"
   ]
  },
  {
   "cell_type": "code",
   "execution_count": null,
   "metadata": {},
   "outputs": [],
   "source": [
    "fig, (ax1,ax2) = plt.subplots(2)\n",
    "EnergyBarsTM  = {'Material Production':20, 'Manufacturing':20, 'Transport':20, 'Use':20, 'Disposal':20}\n",
    "names = list(EnergyBarsTM.keys())\n",
    "valores = list(EnergyBarsTM.values())\n",
    "\n",
    "ax1.bar(names,valores)\n",
    "ax2.bar(names,valores)"
   ]
  },
  {
   "cell_type": "code",
   "execution_count": null,
   "metadata": {},
   "outputs": [],
   "source": [
    "def Complete(x=0,y=0,z=0,d=0, mass_reduction_perc=0.2):\n",
    "    \n",
    "    EnergyBars = {'Material Production':30-x, 'Manufacturing':30-y, 'Transport':30-z, 'Use':30-d, 'Disposal':30-d}\n",
    "    CO2Bars = {'Material Production':30-x, 'Manufacturing':30-y, 'Transport':30-z, 'Use':30-d, 'Disposal':30-d}\n",
    "    names = list(barras.keys())\n",
    "    valores = list(barras.values())\n",
    "    valores.append()\n",
    "    fig, (ax1,ax2) = plt.subplots\n",
    "    plt.bar(nomes,valores)"
   ]
  },
  {
   "cell_type": "code",
   "execution_count": null,
   "metadata": {},
   "outputs": [],
   "source": [
    "eff_energ_conv = 0.4 # MJ/MJ %\n",
    "CO2equivalent = 20 #g/MJ"
   ]
  },
  {
   "cell_type": "code",
   "execution_count": null,
   "metadata": {},
   "outputs": [],
   "source": [
    "\n",
    "##### TRADITIONAL MANUFACTURING\n",
    "initialMassTM = 100 #kg\n",
    "finalMassTM = 76 #kg\n",
    "# Primary Production\n",
    "\n",
    "embodied_MatTM =[10000,100] # [MJ/kg, kg/kg]\n",
    "\n",
    "processingTM = [[10000,0.3]] #Cada linha da matriz é um dos passos, primeiro item energia e por ultimo a massa retirada (colocar em % ou em massa mesmo?)\n",
    "\n",
    "\n",
    "\n",
    "\n",
    "\n",
    "##### ADITIVE MANUFACTURING\n",
    "\n",
    "embodied_MatAM =[10000,100] # [MJ/kg, kg/kg]\n",
    "\n",
    "processingAM = [[10000,1.02*finalMass],[1000,0.02]]\n",
    "\n"
   ]
  }
 ],
 "metadata": {
  "kernelspec": {
   "display_name": "Python 3",
   "language": "python",
   "name": "python3"
  },
  "language_info": {
   "codemirror_mode": {
    "name": "ipython",
    "version": 3
   },
   "file_extension": ".py",
   "mimetype": "text/x-python",
   "name": "python",
   "nbconvert_exporter": "python",
   "pygments_lexer": "ipython3",
   "version": "3.8.3"
  }
 },
 "nbformat": 4,
 "nbformat_minor": 4
}
