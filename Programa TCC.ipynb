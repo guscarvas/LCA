{
 "cells": [
  {
   "cell_type": "code",
   "execution_count": 7,
   "metadata": {},
   "outputs": [],
   "source": [
    "import numpy as np\n",
    "import matplotlib.pyplot as plt\n",
    "import ipywidgets"
   ]
  },
  {
   "cell_type": "code",
   "execution_count": null,
   "metadata": {},
   "outputs": [],
   "source": [
    "eff_energ_conv = 0.4 # MJ/MJ %\n",
    "CO2equivalent = 20 #g/MJ"
   ]
  },
  {
   "cell_type": "code",
   "execution_count": null,
   "metadata": {},
   "outputs": [],
   "source": [
    "\n",
    "##### TRADITIONAL MANUFACTURING\n",
    "initialMassTM = 100 #kg\n",
    "finalMassTM = 76 #kg\n",
    "# Primary Production\n",
    "\n",
    "embodied_MatTM =[10000,100] # [MJ/kg, kg/kg]\n",
    "\n",
    "processingTM = [[10000,0.3]] #Cada linha da matriz é um dos passos, primeiro item energia e por ultimo a massa retirada (colocar em % ou em massa mesmo?)\n",
    "\n",
    "\n",
    "\n",
    "\n",
    "\n",
    "##### ADITIVE MANUFACTURING\n",
    "\n",
    "embodied_MatAM =[10000,100] # [MJ/kg, kg/kg]\n",
    "\n",
    "processingAM = [[10000,1.02*finalMass],[1000,0.02]]\n",
    "\n"
   ]
  },
  {
   "cell_type": "code",
   "execution_count": null,
   "metadata": {},
   "outputs": [],
   "source": [
    "def MaterialProduction(EmbodiedMat1, EmbodiedMat2, massTM, massAM):\n",
    "    EG_TM = np.dot(mat1eg,massTM)\n",
    "    EG_AM = np.dot(mat2eg,massAM)\n",
    "    return EG_TM, EG_AM"
   ]
  },
  {
   "cell_type": "code",
   "execution_count": null,
   "metadata": {},
   "outputs": [],
   "source": [
    "def Manufacturing(processing_steps):\n",
    "    result = np.dot(processing_steps[:,0],processing_steps[:,1])\n",
    "    return result\n"
   ]
  },
  {
   "cell_type": "code",
   "execution_count": 17,
   "metadata": {},
   "outputs": [
    {
     "data": {
      "text/plain": [
       "array([300000,   3000])"
      ]
     },
     "execution_count": 17,
     "metadata": {},
     "output_type": "execute_result"
    }
   ],
   "source": [
    "np.dot([10000,100],30)"
   ]
  },
  {
   "cell_type": "code",
   "execution_count": null,
   "metadata": {},
   "outputs": [],
   "source": [
    "def Transport(distanceAM, distanceTM, methodAM, methodTM):\n",
    "    # https://www.section.io/engineering-education/using-geopy-to-calculate-the-distance-between-two-points/#:~:text=Geopy%20is%20a%20Python%20library,well%20as%20other%20data%20sources.\n",
    "    # https://towardsdatascience.com/driving-distance-between-two-or-more-places-in-python-89779d691def\n",
    "    # https://towardsdatascience.com/calculating-distance-between-two-geolocations-in-python-26ad3afe287b\n",
    "    return 0"
   ]
  },
  {
   "cell_type": "code",
   "execution_count": null,
   "metadata": {},
   "outputs": [],
   "source": [
    "def Use():\n",
    "    np.dot()"
   ]
  },
  {
   "cell_type": "code",
   "execution_count": null,
   "metadata": {},
   "outputs": [],
   "source": [
    "def Disposal():\n",
    "    return 0"
   ]
  },
  {
   "cell_type": "code",
   "execution_count": 1,
   "metadata": {},
   "outputs": [],
   "source": [
    "def Completed(imassTM = 2, fmassTM=1.5,embodiedTM, embodiedAM,\n",
    "              TM11,TM12,TM21,TM22,TM31,TM32,TMsteps,\n",
    "              AM11,AM12,AM21,AM22,AM31,AM32,AMsteps,\n",
    "              mass_reduction_perc=0.2, finishing_perc=0.02, support_perc = 0.01,\n",
    "              eff_energ_conv = 0.4 # MJ/MJ %,\n",
    "              CO2equivalent = 20 #g/MJ,\n",
    "             typeUse = 'Long-Distance Aircraft'):\n",
    "    \n",
    "    \n",
    "    \n",
    "    ############## MATERIAL PRODUCTION\n",
    "    \n",
    "    massAM = fmassTM*(1-mass_reduction_perc)*(1+support_perc+finishing_perc)\n",
    "    \n",
    "    TMmat_prod, AMmat_prod = MaterialProduction(embodiedTM, embodiedAM, imassTM, massAM)\n",
    "    \n",
    "    ############# MANUFACTURING\n",
    "    \n",
    "    TM_processing = np.array([[TM11,TM12],[TM21,TM22],[TM31,TM32]])\n",
    "    uTM_processing = TM_processing\n",
    "    uTM_processing[(TMsteps+1):] = 0\n",
    "    \n",
    "    AM_processing = np.array([[AM11,AM12],[AM21,AM22],[AM31,AM32]]) \n",
    "    uAM_processing = AM_processing\n",
    "    uAM_processing[(AMsteps+1):] = 0\n",
    "    \n",
    "    TMmanuf = Manufacturing(uTM_processing)\n",
    "    AMmanuf = Manufacturing(uAM_processing)\n",
    "    \n",
    "    ############# TRANSPORT\n",
    "    \n",
    "    TMtransport = Transport()\n",
    "    AMtransport = Transport()\n",
    "    \n",
    "    ############# USE\n",
    "    \n",
    "    # MJ PER KG OF REDUCED WEIGHT\n",
    "    energySaving = {'Long-Distance Aircraft': 200*(10**3),'Short-Distance Aircraft': 150*(10**3),\n",
    "                    'Articulated Truck': 260,'Passenger Car - Diesel': 210, 'Passenger Car - Gasoline': 230}\n",
    "    # KG PER KG OF REDUCED WEIGHT\n",
    "    CO2Saving = {'Long-Distance Aircraft': 13.6*(10**3),'Short-Distance Aircraft': 10.2*(10**3),\n",
    "                    'Articulated Truck': 18.5,'Passenger Car - Diesel': 14.9, 'Passenger Car - Gasoline': 15}\n",
    "    \n",
    "    valuesUse = [energySaving[typeUse],CO2Saving[typeUse]]\n",
    "    reducedWeight = fmassTM*(1-mass_reduction_perc) \n",
    "    AMuse = Use(valuesUse, mass)\n",
    "    \n",
    "    ############# DISPOSAL\n",
    "    \n",
    "    TMdisposal = Disposal()\n",
    "    AMdisposal = Disposal()\n",
    "    \n",
    "    \n",
    "    EnergyBarsTM  = {'Material Production':TMmat_prod[0], 'Manufacturing':TMmanuf, 'Transport':TMtransport, 'Use':TMuse, 'Disposal':TMdisposal}\n",
    "#     CO2BarsTM = {'Material Production':30-x, 'Manufacturing':30-y, 'Transport':30-z, 'Use':30-d, 'Disposal':30-d}\n",
    "    \n",
    "    EnergyBarsAM  = {'Material Production':AMmat_prod[0] , 'Manufacturing':AMmanuf, 'Transport':AMtransport, 'Use':AMuse, 'Disposal':AMdisposal}\n",
    "#     CO2BarsAM = {'Material Production':30-x, 'Manufacturing':30-y, 'Transport':30-z, 'Use':30-d, 'Disposal':30-d}\n",
    "    \n",
    "    names = list(barras.keys())\n",
    "    valores = list(barras.values())\n",
    "    valores.append()\n",
    "    plt.bar(nomes,valores)"
   ]
  },
  {
   "cell_type": "code",
   "execution_count": 18,
   "metadata": {},
   "outputs": [],
   "source": [
    "def Complete(x=0,y=0,z=0,d=0, mass_reduction_perc=0.2):\n",
    "    \n",
    "    EnergyBars = {'Material Production':30-x, 'Manufacturing':30-y, 'Transport':30-z, 'Use':30-d, 'Disposal':30-d}\n",
    "    CO2Bars = {'Material Production':30-x, 'Manufacturing':30-y, 'Transport':30-z, 'Use':30-d, 'Disposal':30-d}\n",
    "    names = list(barras.keys())\n",
    "    valores = list(barras.values())\n",
    "    valores.append()\n",
    "    plt.bar(nomes,valores)"
   ]
  },
  {
   "cell_type": "code",
   "execution_count": 19,
   "metadata": {},
   "outputs": [
    {
     "data": {
      "application/vnd.jupyter.widget-view+json": {
       "model_id": "9701c8a97c6441f4b1a9e7c60593ba06",
       "version_major": 2,
       "version_minor": 0
      },
      "text/plain": [
       "interactive(children=(FloatSlider(value=0.0, description='x', max=5.0, step=0.5), FloatSlider(value=0.0, descr…"
      ]
     },
     "metadata": {},
     "output_type": "display_data"
    },
    {
     "data": {
      "text/plain": [
       "<function __main__.plotAGR(x=0, y=0, z=0, d=0)>"
      ]
     },
     "execution_count": 19,
     "metadata": {},
     "output_type": "execute_result"
    }
   ],
   "source": [
    "ipywidgets.interact(Completed,x=(0,5,0.5),y=(0,5,0.5))"
   ]
  }
 ],
 "metadata": {
  "kernelspec": {
   "display_name": "Python 3",
   "language": "python",
   "name": "python3"
  },
  "language_info": {
   "codemirror_mode": {
    "name": "ipython",
    "version": 3
   },
   "file_extension": ".py",
   "mimetype": "text/x-python",
   "name": "python",
   "nbconvert_exporter": "python",
   "pygments_lexer": "ipython3",
   "version": "3.8.3"
  }
 },
 "nbformat": 4,
 "nbformat_minor": 4
}
